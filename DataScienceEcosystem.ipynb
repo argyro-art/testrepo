{
 "cells": [
  {
   "cell_type": "markdown",
   "id": "d3eabdaf-b08e-46c0-aa52-984a541039ba",
   "metadata": {},
   "source": [
    "# Data Science Tools and Ecosystem"
   ]
  },
  {
   "cell_type": "markdown",
   "id": "ca215e26-77b2-4a32-b131-94fb6db53d0a",
   "metadata": {},
   "source": [
    "In this notebook, Data Science Tools and Ecosystem are summarized."
   ]
  },
  {
   "cell_type": "markdown",
   "id": "f8b8e9fc-ebd6-493a-9af9-a2bb621591bb",
   "metadata": {},
   "source": [
    "__Objetives:__\n",
    "* List of popular languages in Data Science\n",
    "* List of commonly used libraries in Data Science\n",
    "* List of open source tools used in Data Science"
   ]
  },
  {
   "cell_type": "markdown",
   "id": "ff17e636-db6b-4c9c-a535-1dae2dad24b2",
   "metadata": {},
   "source": [
    "Some of the popular languages that Data Scientists use are:\n",
    "1. Python\n",
    "2. R\n",
    "3. Java\n"
   ]
  },
  {
   "cell_type": "markdown",
   "id": "9cfe86f7-0855-473f-8b41-cd20ad8b8de1",
   "metadata": {},
   "source": [
    "Some of the commonly used libraries used by Data Scientists include:\n",
    "1. TensorFlow\n",
    "2. NumPy\n",
    "3. SciPy\n",
    "4. Pandas"
   ]
  },
  {
   "cell_type": "markdown",
   "id": "bb26e414-477e-403d-b055-0b791fa5ea05",
   "metadata": {},
   "source": [
    "| Data Science Tools |\n",
    "|--------------------|\n",
    "|MySQL               |\n",
    "|Apache AirFlow      |\n",
    "|Ceph                |"
   ]
  },
  {
   "cell_type": "markdown",
   "id": "a1260539-5458-4b4d-a758-fe03b01ae632",
   "metadata": {},
   "source": [
    "### Below are a few examples of evaluating arithmetic expressions in Python."
   ]
  },
  {
   "cell_type": "markdown",
   "id": "f6b6434b-090d-4efd-a5b7-be9ce4dbc230",
   "metadata": {},
   "source": [
    " This is a simple arithmetic expression to multiply, then add integers."
   ]
  },
  {
   "cell_type": "code",
   "execution_count": 2,
   "id": "4b02d75a-13e4-4cbd-b98e-d897c5218901",
   "metadata": {},
   "outputs": [
    {
     "name": "stdout",
     "output_type": "stream",
     "text": [
      "17\n"
     ]
    }
   ],
   "source": [
    "three=3\n",
    "four=4\n",
    "five=5\n",
    "print((three*four)+five)"
   ]
  },
  {
   "cell_type": "markdown",
   "id": "6a182b47-1058-419b-b7a7-9ad112e115fa",
   "metadata": {},
   "source": [
    "This code will convert 200 minutes to hours by diving by 60."
   ]
  },
  {
   "cell_type": "code",
   "execution_count": 9,
   "id": "b8f99125-6738-41a2-8bfc-567469cc27f0",
   "metadata": {},
   "outputs": [
    {
     "name": "stdout",
     "output_type": "stream",
     "text": [
      "0.016666666666666666\n"
     ]
    }
   ],
   "source": [
    "minutes=1 \n",
    "hours=minutes/60\n",
    "minutes=200\n",
    "print(hours)"
   ]
  },
  {
   "cell_type": "markdown",
   "id": "418c3c88-7962-4979-810e-07c1e9bcc5e4",
   "metadata": {},
   "source": [
    "## Author\n",
    "Argyro Prokopou"
   ]
  },
  {
   "cell_type": "code",
   "execution_count": null,
   "id": "f46965a2-280c-4710-8091-dee10c553117",
   "metadata": {},
   "outputs": [],
   "source": []
  }
 ],
 "metadata": {
  "kernelspec": {
   "display_name": "Python",
   "language": "python",
   "name": "conda-env-python-py"
  },
  "language_info": {
   "codemirror_mode": {
    "name": "ipython",
    "version": 3
   },
   "file_extension": ".py",
   "mimetype": "text/x-python",
   "name": "python",
   "nbconvert_exporter": "python",
   "pygments_lexer": "ipython3",
   "version": "3.7.12"
  }
 },
 "nbformat": 4,
 "nbformat_minor": 5
}
