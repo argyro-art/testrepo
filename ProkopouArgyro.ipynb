{
 "cells": [
  {
   "cell_type": "markdown",
   "id": "a068719f-05b0-494c-8dfb-35527cbf7acc",
   "metadata": {
    "tags": []
   },
   "source": [
    "# My Jupyter Notebook on IBM Watson Studio"
   ]
  },
  {
   "cell_type": "markdown",
   "id": "8508e52b-af30-4eb6-81b6-35bffa3f1060",
   "metadata": {},
   "source": [
    "__Argyro Prokopou__\n",
    "teacher"
   ]
  },
  {
   "cell_type": "markdown",
   "id": "e0548695-f211-411b-8349-d9d078a3e615",
   "metadata": {},
   "source": [
    "_I am interested in data science, because I d like to turn my career into a new path, and because I really love maths._"
   ]
  },
  {
   "cell_type": "markdown",
   "id": "ad03da5a-2cff-4f32-b2d9-0742fd08f514",
   "metadata": {},
   "source": [
    "### My code in the next cell should print the outcome of a mathematical operation (1+2)."
   ]
  },
  {
   "cell_type": "code",
   "execution_count": 2,
   "id": "5cab95de-92bd-4a79-994c-63051fb00b7c",
   "metadata": {},
   "outputs": [
    {
     "name": "stdout",
     "output_type": "stream",
     "text": [
      "3\n"
     ]
    }
   ],
   "source": [
    "one = 1\n",
    "two = 2\n",
    "print (1+2)\n"
   ]
  },
  {
   "cell_type": "markdown",
   "id": "4a8830e0-4781-4f71-bbb1-3c1704b16d13",
   "metadata": {},
   "source": [
    "|Age    | Height     |\n",
    "|-------|------------|\n",
    "|30     |165         |\n",
    "|25     |175         |\n",
    "\n",
    "\n",
    "* Python\n",
    "* Java\n",
    "* R\n",
    "\n",
    "1. Jupyter\n",
    "2. R Studio\n",
    "3. GitHub"
   ]
  }
 ],
 "metadata": {
  "kernelspec": {
   "display_name": "Python",
   "language": "python",
   "name": "conda-env-python-py"
  },
  "language_info": {
   "codemirror_mode": {
    "name": "ipython",
    "version": 3
   },
   "file_extension": ".py",
   "mimetype": "text/x-python",
   "name": "python",
   "nbconvert_exporter": "python",
   "pygments_lexer": "ipython3",
   "version": "3.7.12"
  }
 },
 "nbformat": 4,
 "nbformat_minor": 5
}
